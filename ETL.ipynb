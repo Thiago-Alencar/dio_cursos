{
  "nbformat": 4,
  "nbformat_minor": 0,
  "metadata": {
    "colab": {
      "provenance": [],
      "authorship_tag": "ABX9TyPDcCEBasn/L3mV/HZu3fcF",
      "include_colab_link": true
    },
    "kernelspec": {
      "name": "python3",
      "display_name": "Python 3"
    },
    "language_info": {
      "name": "python"
    }
  },
  "cells": [
    {
      "cell_type": "markdown",
      "metadata": {
        "id": "view-in-github",
        "colab_type": "text"
      },
      "source": [
        "<a href=\"https://colab.research.google.com/github/Thiago-Alencar/dio_cursos/blob/main/ETL.ipynb\" target=\"_parent\"><img src=\"https://colab.research.google.com/assets/colab-badge.svg\" alt=\"Open In Colab\"/></a>"
      ]
    },
    {
      "cell_type": "markdown",
      "source": [
        "a API de câmbio para extrair as taxas de câmbio do Real em relação a outras moedas, transformaremos os dados e, em seguida, enviaremos um e-mail de notificação aos clientes."
      ],
      "metadata": {
        "id": "AXs_x7mJeqPO"
      }
    },
    {
      "cell_type": "markdown",
      "source": [
        "Passo 1: Extração (E)"
      ],
      "metadata": {
        "id": "jhcIGdzze_9M"
      }
    },
    {
      "cell_type": "code",
      "source": [
        "import requests\n",
        "\n",
        "# Exemplo de API de câmbio (Real para Dólar)\n",
        "api_url = \"https://api.exchangerate-api.com/v4/latest/USD\"\n",
        "response = requests.get(api_url)\n",
        "\n",
        "if response.status_code == 200:\n",
        "    exchange_data = response.json()\n",
        "    # Extrair as taxas de câmbio\n",
        "    real_to_usd = exchange_data['rates']['BRL']\n",
        "else:\n",
        "    print(\"Erro na solicitação à API de câmbio\")\n"
      ],
      "metadata": {
        "id": "GmQTtPrLeu5d"
      },
      "execution_count": null,
      "outputs": []
    },
    {
      "cell_type": "markdown",
      "source": [
        "Passo 2: Transformação (T)\n",
        "Vamos realizar uma transformação simples para verificar se o valor do Real está acima ou abaixo de um limite específico e criar uma mensagem correspondente."
      ],
      "metadata": {
        "id": "jxGMQaN8e47Y"
      }
    },
    {
      "cell_type": "code",
      "source": [
        "# Valor de referência\n",
        "limite_superior = 5.5  # Por exemplo, limite superior para notificação\n",
        "limite_inferior = 5.0  # Por exemplo, limite inferior para notificação\n",
        "\n",
        "# Verificar o valor do Real em relação ao limite\n",
        "mensagem = \"\"\n",
        "if real_to_usd > limite_superior:\n",
        "    mensagem = \"O valor do Real está acima de \" + str(limite_superior)\n",
        "elif real_to_usd < limite_inferior:\n",
        "    mensagem = \"O valor do Real está abaixo de \" + str(limite_inferior)\n",
        "else:\n",
        "    mensagem = \"O valor do Real está dentro da faixa desejada\"\n"
      ],
      "metadata": {
        "id": "9CMjIdZ4fO-A"
      },
      "execution_count": null,
      "outputs": []
    },
    {
      "cell_type": "markdown",
      "source": [
        "Passo 3: Carga (C)\n",
        "Neste exemplo, enviaremos um e-mail de notificação."
      ],
      "metadata": {
        "id": "OSIs4MRIfWLi"
      }
    },
    {
      "cell_type": "code",
      "source": [
        "import smtplib\n",
        "from email.mime.text import MIMEText\n",
        "from email.mime.multipart import MIMEMultipart\n",
        "\n",
        "# Configurações do servidor SMTP (exemplo para Gmail)\n",
        "smtp_server = 'smtp.gmail.com'\n",
        "smtp_port = 587\n",
        "smtp_user = 'seu_email@gmail.com'\n",
        "smtp_password = 'sua_senha'\n",
        "\n",
        "# Destinatários (clientes)\n",
        "clientes = ['cliente1@example.com', 'cliente2@example.com']\n",
        "\n",
        "# Criar mensagem de e-mail\n",
        "message = MIMEMultipart()\n",
        "message['From'] = smtp_user\n",
        "message['Subject'] = \"Notificação sobre o valor do Real\"\n",
        "\n",
        "# Adicionar corpo de mensagem\n",
        "message.attach(MIMEText(mensagem, 'plain'))\n",
        "\n",
        "# Conectar ao servidor SMTP e enviar e-mails para clientes\n",
        "with smtplib.SMTP(smtp_server, smtp_port) as server:\n",
        "    server.starttls()\n",
        "    server.login(smtp_user, smtp_password)\n",
        "    for cliente in clientes:\n",
        "        server.sendmail(smtp_user, cliente, message.as_string())\n",
        "    server.quit()\n"
      ],
      "metadata": {
        "id": "AKT0rbJDfaVi"
      },
      "execution_count": null,
      "outputs": []
    }
  ]
}